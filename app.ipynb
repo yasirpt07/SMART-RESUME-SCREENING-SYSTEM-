{
 "cells": [
  {
   "metadata": {
    "ExecuteTime": {
     "end_time": "2025-10-26T18:28:10.954508Z",
     "start_time": "2025-10-26T18:28:10.949928Z"
    }
   },
   "cell_type": "code",
   "source": [
    "import os\n",
    "# Change to your project root folder\n",
    "os.chdir(r\"C:\\Users\\yasir\\PyCharmMiscProject\\SMART RESUME SCREENING\")\n",
    "print(\"Current Working Directory:\", os.getcwd())\n"
   ],
   "id": "ffd1260b49da1b4b",
   "outputs": [
    {
     "name": "stdout",
     "output_type": "stream",
     "text": [
      "Current Working Directory: C:\\Users\\yasir\\PyCharmMiscProject\\SMART RESUME SCREENING\n"
     ]
    }
   ],
   "execution_count": 19
  },
  {
   "metadata": {
    "ExecuteTime": {
     "end_time": "2025-10-26T19:03:06.869458Z",
     "start_time": "2025-10-26T19:03:06.768019Z"
    }
   },
   "cell_type": "code",
   "source": [
    "from src.parser import extract_text_from_pdf, extract_text_from_docx, extract_info, extract_skills\n",
    "from src.matcher import match_score\n",
    "\n",
    "# Load resume text\n",
    "resume_text = extract_text_from_pdf('C:/Users/yasir/PyCharmMiscProject/SMART RESUME SCREENING/Data/Resume/MohammedYasirArafathPT_DataScienceResume.pdf')\n",
    "# Load job description text\n",
    "job_desc = open('C:/Users/yasir/PyCharmMiscProject/SMART RESUME SCREENING/Data/Job Descriptions/data_scientist.txt.txt').read()\n",
    "\n",
    "# Extract info and skills\n",
    "info = extract_info(resume_text)\n",
    "skills = extract_skills(resume_text)\n",
    "\n",
    "# Match skills with job description\n",
    "score, matched = match_score(skills, job_desc)\n",
    "\n",
    "# Display results\n",
    "print(\"Candidate Info:\", info)\n",
    "print(\"Extracted Skills:\", skills)\n",
    "print(\"Match Score:\", score, \"%\")\n",
    "print(\"Matched Skills:\", matched)\n"
   ],
   "id": "76ce2816ff6a0938",
   "outputs": [
    {
     "name": "stdout",
     "output_type": "stream",
     "text": [
      "Candidate Info: {'email': '•Malappuram,Kerala•yasirpt77@gmail.com', 'phone': None}\n",
      "Extracted Skills: ['python', 'machine learning', 'sql', 'pandas', 'data analysis', 'excel']\n",
      "Match Score: 83.33 %\n",
      "Matched Skills: ['python', 'machine learning', 'sql', 'pandas', 'excel']\n"
     ]
    }
   ],
   "execution_count": 31
  },
  {
   "metadata": {},
   "cell_type": "code",
   "outputs": [],
   "execution_count": null,
   "source": "",
   "id": "ca3590dcbc15570e"
  }
 ],
 "metadata": {
  "kernelspec": {
   "display_name": "Python 3",
   "language": "python",
   "name": "python3"
  },
  "language_info": {
   "codemirror_mode": {
    "name": "ipython",
    "version": 2
   },
   "file_extension": ".py",
   "mimetype": "text/x-python",
   "name": "python",
   "nbconvert_exporter": "python",
   "pygments_lexer": "ipython2",
   "version": "2.7.6"
  }
 },
 "nbformat": 4,
 "nbformat_minor": 5
}
